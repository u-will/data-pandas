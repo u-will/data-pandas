{
 "metadata": {
  "language_info": {
   "codemirror_mode": {
    "name": "ipython",
    "version": 3
   },
   "file_extension": ".py",
   "mimetype": "text/x-python",
   "name": "python",
   "nbconvert_exporter": "python",
   "pygments_lexer": "ipython3",
   "version": "3.7.4-final"
  },
  "orig_nbformat": 2,
  "kernelspec": {
   "name": "python3",
   "display_name": "Python 3"
  }
 },
 "nbformat": 4,
 "nbformat_minor": 2,
 "cells": [
  {
   "source": [
    "# Video Game Sale \n",
    "# Will -- December 6th 2020"
   ],
   "cell_type": "markdown",
   "metadata": {}
  },
  {
   "cell_type": "code",
   "execution_count": 13,
   "metadata": {},
   "outputs": [],
   "source": [
    "import pandas as pd "
   ]
  },
  {
   "cell_type": "code",
   "execution_count": 14,
   "metadata": {},
   "outputs": [],
   "source": [
    "# data form https://www.kaggle.com/gregorut/videogamesales\n",
    "vgsales_file = pd.read_csv('vgsales.csv')"
   ]
  },
  {
   "cell_type": "code",
   "execution_count": 15,
   "metadata": {},
   "outputs": [
    {
     "output_type": "execute_result",
     "data": {
      "text/plain": [
       "   Rank                      Name Platform    Year         Genre Publisher  \\\n",
       "0     1                Wii Sports      Wii  2006.0        Sports  Nintendo   \n",
       "1     2         Super Mario Bros.      NES  1985.0      Platform  Nintendo   \n",
       "2     3            Mario Kart Wii      Wii  2008.0        Racing  Nintendo   \n",
       "3     4         Wii Sports Resort      Wii  2009.0        Sports  Nintendo   \n",
       "4     5  Pokemon Red/Pokemon Blue       GB  1996.0  Role-Playing  Nintendo   \n",
       "\n",
       "   NA_Sales  EU_Sales  JP_Sales  Other_Sales  Global_Sales  \n",
       "0     41.49     29.02      3.77         8.46         82.74  \n",
       "1     29.08      3.58      6.81         0.77         40.24  \n",
       "2     15.85     12.88      3.79         3.31         35.82  \n",
       "3     15.75     11.01      3.28         2.96         33.00  \n",
       "4     11.27      8.89     10.22         1.00         31.37  "
      ],
      "text/html": "<div>\n<style scoped>\n    .dataframe tbody tr th:only-of-type {\n        vertical-align: middle;\n    }\n\n    .dataframe tbody tr th {\n        vertical-align: top;\n    }\n\n    .dataframe thead th {\n        text-align: right;\n    }\n</style>\n<table border=\"1\" class=\"dataframe\">\n  <thead>\n    <tr style=\"text-align: right;\">\n      <th></th>\n      <th>Rank</th>\n      <th>Name</th>\n      <th>Platform</th>\n      <th>Year</th>\n      <th>Genre</th>\n      <th>Publisher</th>\n      <th>NA_Sales</th>\n      <th>EU_Sales</th>\n      <th>JP_Sales</th>\n      <th>Other_Sales</th>\n      <th>Global_Sales</th>\n    </tr>\n  </thead>\n  <tbody>\n    <tr>\n      <td>0</td>\n      <td>1</td>\n      <td>Wii Sports</td>\n      <td>Wii</td>\n      <td>2006.0</td>\n      <td>Sports</td>\n      <td>Nintendo</td>\n      <td>41.49</td>\n      <td>29.02</td>\n      <td>3.77</td>\n      <td>8.46</td>\n      <td>82.74</td>\n    </tr>\n    <tr>\n      <td>1</td>\n      <td>2</td>\n      <td>Super Mario Bros.</td>\n      <td>NES</td>\n      <td>1985.0</td>\n      <td>Platform</td>\n      <td>Nintendo</td>\n      <td>29.08</td>\n      <td>3.58</td>\n      <td>6.81</td>\n      <td>0.77</td>\n      <td>40.24</td>\n    </tr>\n    <tr>\n      <td>2</td>\n      <td>3</td>\n      <td>Mario Kart Wii</td>\n      <td>Wii</td>\n      <td>2008.0</td>\n      <td>Racing</td>\n      <td>Nintendo</td>\n      <td>15.85</td>\n      <td>12.88</td>\n      <td>3.79</td>\n      <td>3.31</td>\n      <td>35.82</td>\n    </tr>\n    <tr>\n      <td>3</td>\n      <td>4</td>\n      <td>Wii Sports Resort</td>\n      <td>Wii</td>\n      <td>2009.0</td>\n      <td>Sports</td>\n      <td>Nintendo</td>\n      <td>15.75</td>\n      <td>11.01</td>\n      <td>3.28</td>\n      <td>2.96</td>\n      <td>33.00</td>\n    </tr>\n    <tr>\n      <td>4</td>\n      <td>5</td>\n      <td>Pokemon Red/Pokemon Blue</td>\n      <td>GB</td>\n      <td>1996.0</td>\n      <td>Role-Playing</td>\n      <td>Nintendo</td>\n      <td>11.27</td>\n      <td>8.89</td>\n      <td>10.22</td>\n      <td>1.00</td>\n      <td>31.37</td>\n    </tr>\n  </tbody>\n</table>\n</div>"
     },
     "metadata": {},
     "execution_count": 15
    }
   ],
   "source": [
    "vgsales_file.head()"
   ]
  },
  {
   "source": [
    "### Which company is the most common video game publisher?"
   ],
   "cell_type": "markdown",
   "metadata": {}
  },
  {
   "cell_type": "code",
   "execution_count": 22,
   "metadata": {},
   "outputs": [
    {
     "output_type": "execute_result",
     "data": {
      "text/plain": [
       "0    Electronic Arts\n",
       "dtype: object"
      ]
     },
     "metadata": {},
     "execution_count": 22
    }
   ],
   "source": [
    "vgsales_file[\"Publisher\"].mode()"
   ]
  },
  {
   "source": [
    "### What’s the most common platform?"
   ],
   "cell_type": "markdown",
   "metadata": {}
  },
  {
   "cell_type": "code",
   "execution_count": 27,
   "metadata": {},
   "outputs": [
    {
     "output_type": "execute_result",
     "data": {
      "text/plain": [
       "0    DS\n",
       "dtype: object"
      ]
     },
     "metadata": {},
     "execution_count": 27
    }
   ],
   "source": [
    "vgsales_file[\"Platform\"].mode()"
   ]
  },
  {
   "source": [
    "### What about the most common genre?\n"
   ],
   "cell_type": "markdown",
   "metadata": {}
  },
  {
   "cell_type": "code",
   "execution_count": 29,
   "metadata": {},
   "outputs": [
    {
     "output_type": "execute_result",
     "data": {
      "text/plain": [
       "0    Action\n",
       "dtype: object"
      ]
     },
     "metadata": {},
     "execution_count": 29
    }
   ],
   "source": [
    "vgsales_file[\"Genre\"].mode()"
   ]
  },
  {
   "source": [
    "### What are the top 20 highest grossing games?"
   ],
   "cell_type": "markdown",
   "metadata": {}
  },
  {
   "source": [
    "vgsales_file[['Name', 'Global_Sales']].sort_values('Global_Sales', ascending= False).head(20)"
   ],
   "cell_type": "code",
   "metadata": {},
   "execution_count": 34,
   "outputs": [
    {
     "output_type": "execute_result",
     "data": {
      "text/plain": [
       "                                            Name  Global_Sales\n",
       "0                                     Wii Sports         82.74\n",
       "1                              Super Mario Bros.         40.24\n",
       "2                                 Mario Kart Wii         35.82\n",
       "3                              Wii Sports Resort         33.00\n",
       "4                       Pokemon Red/Pokemon Blue         31.37\n",
       "5                                         Tetris         30.26\n",
       "6                          New Super Mario Bros.         30.01\n",
       "7                                       Wii Play         29.02\n",
       "8                      New Super Mario Bros. Wii         28.62\n",
       "9                                      Duck Hunt         28.31\n",
       "10                                    Nintendogs         24.76\n",
       "11                                 Mario Kart DS         23.42\n",
       "12                   Pokemon Gold/Pokemon Silver         23.10\n",
       "13                                       Wii Fit         22.72\n",
       "14                                  Wii Fit Plus         22.00\n",
       "15                            Kinect Adventures!         21.82\n",
       "16                            Grand Theft Auto V         21.40\n",
       "17                 Grand Theft Auto: San Andreas         20.81\n",
       "18                             Super Mario World         20.61\n",
       "19  Brain Age: Train Your Brain in Minutes a Day         20.22"
      ],
      "text/html": "<div>\n<style scoped>\n    .dataframe tbody tr th:only-of-type {\n        vertical-align: middle;\n    }\n\n    .dataframe tbody tr th {\n        vertical-align: top;\n    }\n\n    .dataframe thead th {\n        text-align: right;\n    }\n</style>\n<table border=\"1\" class=\"dataframe\">\n  <thead>\n    <tr style=\"text-align: right;\">\n      <th></th>\n      <th>Name</th>\n      <th>Global_Sales</th>\n    </tr>\n  </thead>\n  <tbody>\n    <tr>\n      <td>0</td>\n      <td>Wii Sports</td>\n      <td>82.74</td>\n    </tr>\n    <tr>\n      <td>1</td>\n      <td>Super Mario Bros.</td>\n      <td>40.24</td>\n    </tr>\n    <tr>\n      <td>2</td>\n      <td>Mario Kart Wii</td>\n      <td>35.82</td>\n    </tr>\n    <tr>\n      <td>3</td>\n      <td>Wii Sports Resort</td>\n      <td>33.00</td>\n    </tr>\n    <tr>\n      <td>4</td>\n      <td>Pokemon Red/Pokemon Blue</td>\n      <td>31.37</td>\n    </tr>\n    <tr>\n      <td>5</td>\n      <td>Tetris</td>\n      <td>30.26</td>\n    </tr>\n    <tr>\n      <td>6</td>\n      <td>New Super Mario Bros.</td>\n      <td>30.01</td>\n    </tr>\n    <tr>\n      <td>7</td>\n      <td>Wii Play</td>\n      <td>29.02</td>\n    </tr>\n    <tr>\n      <td>8</td>\n      <td>New Super Mario Bros. Wii</td>\n      <td>28.62</td>\n    </tr>\n    <tr>\n      <td>9</td>\n      <td>Duck Hunt</td>\n      <td>28.31</td>\n    </tr>\n    <tr>\n      <td>10</td>\n      <td>Nintendogs</td>\n      <td>24.76</td>\n    </tr>\n    <tr>\n      <td>11</td>\n      <td>Mario Kart DS</td>\n      <td>23.42</td>\n    </tr>\n    <tr>\n      <td>12</td>\n      <td>Pokemon Gold/Pokemon Silver</td>\n      <td>23.10</td>\n    </tr>\n    <tr>\n      <td>13</td>\n      <td>Wii Fit</td>\n      <td>22.72</td>\n    </tr>\n    <tr>\n      <td>14</td>\n      <td>Wii Fit Plus</td>\n      <td>22.00</td>\n    </tr>\n    <tr>\n      <td>15</td>\n      <td>Kinect Adventures!</td>\n      <td>21.82</td>\n    </tr>\n    <tr>\n      <td>16</td>\n      <td>Grand Theft Auto V</td>\n      <td>21.40</td>\n    </tr>\n    <tr>\n      <td>17</td>\n      <td>Grand Theft Auto: San Andreas</td>\n      <td>20.81</td>\n    </tr>\n    <tr>\n      <td>18</td>\n      <td>Super Mario World</td>\n      <td>20.61</td>\n    </tr>\n    <tr>\n      <td>19</td>\n      <td>Brain Age: Train Your Brain in Minutes a Day</td>\n      <td>20.22</td>\n    </tr>\n  </tbody>\n</table>\n</div>"
     },
     "metadata": {},
     "execution_count": 34
    }
   ]
  },
  {
   "source": [
    "### For North American video game sales, what’s the median?"
   ],
   "cell_type": "markdown",
   "metadata": {}
  },
  {
   "cell_type": "code",
   "execution_count": 36,
   "metadata": {},
   "outputs": [
    {
     "output_type": "execute_result",
     "data": {
      "text/plain": [
       "NA_Sales    0.08\n",
       "dtype: float64"
      ]
     },
     "metadata": {},
     "execution_count": 36
    }
   ],
   "source": [
    "vgsales_file[['NA_Sales']].median()"
   ]
  },
  {
   "cell_type": "code",
   "execution_count": 46,
   "metadata": {},
   "outputs": [
    {
     "output_type": "execute_result",
     "data": {
      "text/plain": [
       "     Rank                                       Name Platform    Year  \\\n",
       "224   225                    The Simpsons: Hit & Run      PS2  2003.0   \n",
       "225   226                   Tony Hawk's Pro Skater 2       PS  2000.0   \n",
       "226   227                 Animal Crossing: City Folk      Wii  2008.0   \n",
       "227   228      The Lord of the Rings: The Two Towers      PS2  2002.0   \n",
       "228   229                         Forza Motorsport 4     X360  2011.0   \n",
       "229   230                                Tomb Raider       PS  1996.0   \n",
       "230   231           Guitar Hero III: Legends of Rock      Wii  2007.0   \n",
       "231   232    The Legend of Zelda: A Link to the Past     SNES  1991.0   \n",
       "232   233        The Legend of Zelda: The Wind Waker       GC  2002.0   \n",
       "233   234  Mario & Sonic at the Olympic Winter Games      Wii  2009.0   \n",
       "\n",
       "          Genre               Publisher  NA_Sales  EU_Sales  JP_Sales  \\\n",
       "224      Racing           Vivendi Games      1.73      2.19      0.00   \n",
       "225      Sports              Activision      3.05      1.41      0.02   \n",
       "226  Simulation                Nintendo      1.87      1.12      1.32   \n",
       "227      Action         Electronic Arts      1.94      1.95      0.08   \n",
       "228      Racing  Microsoft Game Studios      2.08      2.04      0.06   \n",
       "229      Action       Eidos Interactive      2.29      1.97      0.13   \n",
       "230        Misc              Activision      3.06      1.12      0.00   \n",
       "231      Action                Nintendo      2.42      0.91      1.15   \n",
       "232      Action                Nintendo      2.60      0.99      0.89   \n",
       "233      Sports                    Sega      1.89      1.99      0.22   \n",
       "\n",
       "     Other_Sales  Global_Sales  \n",
       "224         0.79          4.70  \n",
       "225         0.20          4.68  \n",
       "226         0.37          4.68  \n",
       "227         0.70          4.67  \n",
       "228         0.47          4.64  \n",
       "229         0.24          4.63  \n",
       "230         0.44          4.62  \n",
       "231         0.13          4.61  \n",
       "232         0.13          4.60  \n",
       "233         0.48          4.58  "
      ],
      "text/html": "<div>\n<style scoped>\n    .dataframe tbody tr th:only-of-type {\n        vertical-align: middle;\n    }\n\n    .dataframe tbody tr th {\n        vertical-align: top;\n    }\n\n    .dataframe thead th {\n        text-align: right;\n    }\n</style>\n<table border=\"1\" class=\"dataframe\">\n  <thead>\n    <tr style=\"text-align: right;\">\n      <th></th>\n      <th>Rank</th>\n      <th>Name</th>\n      <th>Platform</th>\n      <th>Year</th>\n      <th>Genre</th>\n      <th>Publisher</th>\n      <th>NA_Sales</th>\n      <th>EU_Sales</th>\n      <th>JP_Sales</th>\n      <th>Other_Sales</th>\n      <th>Global_Sales</th>\n    </tr>\n  </thead>\n  <tbody>\n    <tr>\n      <td>224</td>\n      <td>225</td>\n      <td>The Simpsons: Hit &amp; Run</td>\n      <td>PS2</td>\n      <td>2003.0</td>\n      <td>Racing</td>\n      <td>Vivendi Games</td>\n      <td>1.73</td>\n      <td>2.19</td>\n      <td>0.00</td>\n      <td>0.79</td>\n      <td>4.70</td>\n    </tr>\n    <tr>\n      <td>225</td>\n      <td>226</td>\n      <td>Tony Hawk's Pro Skater 2</td>\n      <td>PS</td>\n      <td>2000.0</td>\n      <td>Sports</td>\n      <td>Activision</td>\n      <td>3.05</td>\n      <td>1.41</td>\n      <td>0.02</td>\n      <td>0.20</td>\n      <td>4.68</td>\n    </tr>\n    <tr>\n      <td>226</td>\n      <td>227</td>\n      <td>Animal Crossing: City Folk</td>\n      <td>Wii</td>\n      <td>2008.0</td>\n      <td>Simulation</td>\n      <td>Nintendo</td>\n      <td>1.87</td>\n      <td>1.12</td>\n      <td>1.32</td>\n      <td>0.37</td>\n      <td>4.68</td>\n    </tr>\n    <tr>\n      <td>227</td>\n      <td>228</td>\n      <td>The Lord of the Rings: The Two Towers</td>\n      <td>PS2</td>\n      <td>2002.0</td>\n      <td>Action</td>\n      <td>Electronic Arts</td>\n      <td>1.94</td>\n      <td>1.95</td>\n      <td>0.08</td>\n      <td>0.70</td>\n      <td>4.67</td>\n    </tr>\n    <tr>\n      <td>228</td>\n      <td>229</td>\n      <td>Forza Motorsport 4</td>\n      <td>X360</td>\n      <td>2011.0</td>\n      <td>Racing</td>\n      <td>Microsoft Game Studios</td>\n      <td>2.08</td>\n      <td>2.04</td>\n      <td>0.06</td>\n      <td>0.47</td>\n      <td>4.64</td>\n    </tr>\n    <tr>\n      <td>229</td>\n      <td>230</td>\n      <td>Tomb Raider</td>\n      <td>PS</td>\n      <td>1996.0</td>\n      <td>Action</td>\n      <td>Eidos Interactive</td>\n      <td>2.29</td>\n      <td>1.97</td>\n      <td>0.13</td>\n      <td>0.24</td>\n      <td>4.63</td>\n    </tr>\n    <tr>\n      <td>230</td>\n      <td>231</td>\n      <td>Guitar Hero III: Legends of Rock</td>\n      <td>Wii</td>\n      <td>2007.0</td>\n      <td>Misc</td>\n      <td>Activision</td>\n      <td>3.06</td>\n      <td>1.12</td>\n      <td>0.00</td>\n      <td>0.44</td>\n      <td>4.62</td>\n    </tr>\n    <tr>\n      <td>231</td>\n      <td>232</td>\n      <td>The Legend of Zelda: A Link to the Past</td>\n      <td>SNES</td>\n      <td>1991.0</td>\n      <td>Action</td>\n      <td>Nintendo</td>\n      <td>2.42</td>\n      <td>0.91</td>\n      <td>1.15</td>\n      <td>0.13</td>\n      <td>4.61</td>\n    </tr>\n    <tr>\n      <td>232</td>\n      <td>233</td>\n      <td>The Legend of Zelda: The Wind Waker</td>\n      <td>GC</td>\n      <td>2002.0</td>\n      <td>Action</td>\n      <td>Nintendo</td>\n      <td>2.60</td>\n      <td>0.99</td>\n      <td>0.89</td>\n      <td>0.13</td>\n      <td>4.60</td>\n    </tr>\n    <tr>\n      <td>233</td>\n      <td>234</td>\n      <td>Mario &amp; Sonic at the Olympic Winter Games</td>\n      <td>Wii</td>\n      <td>2009.0</td>\n      <td>Sports</td>\n      <td>Sega</td>\n      <td>1.89</td>\n      <td>1.99</td>\n      <td>0.22</td>\n      <td>0.48</td>\n      <td>4.58</td>\n    </tr>\n  </tbody>\n</table>\n</div>"
     },
     "metadata": {},
     "execution_count": 46
    }
   ],
   "source": [
    "vgsales_file[(len(vgsales_file[vgsales_file['NA_Sales'] == 0.08])// 2) - 5:(len(vgsales_file[vgsales_file['NA_Sales'] == 0.08])// 2) + 5]"
   ]
  },
  {
   "cell_type": "code",
   "execution_count": 47,
   "metadata": {},
   "outputs": [],
   "source": [
    "### For the top-selling game of all time, how many standard deviations above/below the mean are its sales for North America?"
   ]
  },
  {
   "cell_type": "code",
   "execution_count": 48,
   "metadata": {},
   "outputs": [
    {
     "output_type": "execute_result",
     "data": {
      "text/plain": [
       "50.47898767478096"
      ]
     },
     "metadata": {},
     "execution_count": 48
    }
   ],
   "source": [
    "(vgsales_file.iloc[0].NA_Sales - vgsales_file['NA_Sales'].mean()) / vgsales_file['NA_Sales'].std()"
   ]
  },
  {
   "cell_type": "code",
   "execution_count": 49,
   "metadata": {},
   "outputs": [],
   "source": [
    "###  Find the average number of Wii game sales compared to other platforms"
   ]
  },
  {
   "cell_type": "code",
   "execution_count": null,
   "metadata": {},
   "outputs": [],
   "source": []
  }
 ]
}